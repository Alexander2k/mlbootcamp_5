{
 "cells": [
  {
   "cell_type": "code",
   "execution_count": 1,
   "metadata": {},
   "outputs": [
    {
     "name": "stderr",
     "output_type": "stream",
     "text": [
      "/usr/local/lib/python3.5/dist-packages/sklearn/cross_validation.py:44: DeprecationWarning: This module was deprecated in version 0.18 in favor of the model_selection module into which all the refactored classes and functions are moved. Also note that the interface of the new CV iterators are different from that of this module. This module will be removed in 0.20.\n",
      "  \"This module will be removed in 0.20.\", DeprecationWarning)\n"
     ]
    }
   ],
   "source": [
    "import pandas as pd\n",
    "import numpy as np\n",
    "import matplotlib.pyplot as plt\n",
    "from sklearn.cross_validation import train_test_split, cross_val_score\n",
    "import xgboost as xgb\n",
    "import seaborn as sns\n",
    "np.random.seed(42)\n",
    "pd.set_option('display.max_columns', 100)\n",
    "pd.set_option('display.max_rows', 100)"
   ]
  },
  {
   "cell_type": "code",
   "execution_count": 2,
   "metadata": {
    "collapsed": true
   },
   "outputs": [],
   "source": [
    "plt.style.use('ggplot')"
   ]
  },
  {
   "cell_type": "code",
   "execution_count": 3,
   "metadata": {
    "collapsed": true
   },
   "outputs": [],
   "source": [
    "train = pd.read_csv('/media/alex/DACC103ACC10137D/ML/ML5/train.csv',sep=';')"
   ]
  },
  {
   "cell_type": "code",
   "execution_count": 4,
   "metadata": {
    "collapsed": true
   },
   "outputs": [],
   "source": [
    "test = pd.read_csv('/media/alex/DACC103ACC10137D/ML/ML5/test.csv',sep=';')"
   ]
  },
  {
   "cell_type": "code",
   "execution_count": 5,
   "metadata": {
    "collapsed": true
   },
   "outputs": [],
   "source": [
    "train['age1'] = train.age / 366\n",
    "train['age2'] = train.age / 365\n",
    "test['age1'] = train.age / 366\n",
    "test['age2'] = test.age / 365\n"
   ]
  },
  {
   "cell_type": "code",
   "execution_count": 6,
   "metadata": {
    "collapsed": true
   },
   "outputs": [],
   "source": [
    "for num , i in enumerate(train.ap_hi):\n",
    "    if (i>1000 and i<3000):\n",
    "        train.loc[num:num,'ap_hi']= i/100"
   ]
  },
  {
   "cell_type": "code",
   "execution_count": 7,
   "metadata": {
    "collapsed": true
   },
   "outputs": [],
   "source": [
    "for num , i in enumerate(train.ap_hi):\n",
    "    if (i>3000 and i<30000):\n",
    "        train.loc[num:num,'ap_hi']= i/1000"
   ]
  },
  {
   "cell_type": "code",
   "execution_count": 8,
   "metadata": {
    "collapsed": true
   },
   "outputs": [],
   "source": [
    "for num , i in enumerate(train.ap_hi):\n",
    "    if (i>250 and i<1000):\n",
    "        train.loc[num:num,'ap_hi']= i/10"
   ]
  },
  {
   "cell_type": "code",
   "execution_count": 9,
   "metadata": {
    "collapsed": true
   },
   "outputs": [],
   "source": [
    "for num , i in enumerate(train.ap_hi):\n",
    "    if (i<0):\n",
    "        train.loc[num:num,'ap_hi']= abs(i)"
   ]
  },
  {
   "cell_type": "code",
   "execution_count": 10,
   "metadata": {
    "collapsed": true
   },
   "outputs": [],
   "source": [
    "for num , i in enumerate(train.ap_hi):\n",
    "    if (i<50):\n",
    "        train.loc[num:num,'ap_hi']= i * 10"
   ]
  },
  {
   "cell_type": "code",
   "execution_count": null,
   "metadata": {
    "collapsed": true
   },
   "outputs": [],
   "source": []
  },
  {
   "cell_type": "code",
   "execution_count": null,
   "metadata": {
    "collapsed": true
   },
   "outputs": [],
   "source": []
  },
  {
   "cell_type": "code",
   "execution_count": 11,
   "metadata": {
    "collapsed": true
   },
   "outputs": [],
   "source": [
    "for num , i in enumerate(train.ap_lo):\n",
    "    if (i>2500 and i<15000):\n",
    "        train.loc[num:num,'ap_lo']= i/100"
   ]
  },
  {
   "cell_type": "code",
   "execution_count": 12,
   "metadata": {
    "collapsed": true
   },
   "outputs": [],
   "source": [
    "for num , i in enumerate(train.ap_lo):\n",
    "    if (i>500 and i<5000):\n",
    "        train.loc[num:num,'ap_lo']= i/10"
   ]
  },
  {
   "cell_type": "code",
   "execution_count": null,
   "metadata": {
    "collapsed": true
   },
   "outputs": [],
   "source": []
  },
  {
   "cell_type": "code",
   "execution_count": 13,
   "metadata": {
    "collapsed": true
   },
   "outputs": [],
   "source": [
    "for num , i in enumerate(test.ap_hi):\n",
    "    if (i>2000 and i<30000):\n",
    "        test.loc[num:num,'ap_hi']= i/1000"
   ]
  },
  {
   "cell_type": "code",
   "execution_count": 14,
   "metadata": {
    "collapsed": true
   },
   "outputs": [],
   "source": [
    "for num , i in enumerate(test.ap_hi):\n",
    "    if (i>250 and i<2000):\n",
    "        test.loc[num:num,'ap_hi']= i/10"
   ]
  },
  {
   "cell_type": "code",
   "execution_count": 15,
   "metadata": {
    "collapsed": true
   },
   "outputs": [],
   "source": [
    "for num , i in enumerate(test.ap_hi):\n",
    "    if (i<0):\n",
    "        test.loc[num:num,'ap_hi']= abs(i)"
   ]
  },
  {
   "cell_type": "code",
   "execution_count": 16,
   "metadata": {
    "collapsed": true
   },
   "outputs": [],
   "source": [
    "for num , i in enumerate(test.ap_hi):\n",
    "    if (i<50):\n",
    "        test.loc[num:num,'ap_hi']= i * 10"
   ]
  },
  {
   "cell_type": "code",
   "execution_count": null,
   "metadata": {
    "collapsed": true
   },
   "outputs": [],
   "source": []
  },
  {
   "cell_type": "code",
   "execution_count": 17,
   "metadata": {
    "collapsed": true
   },
   "outputs": [],
   "source": [
    "for num , i in enumerate(test.ap_lo):\n",
    "    if (i>2000 and i<15000):\n",
    "        test.loc[num:num,'ap_lo']= i/100"
   ]
  },
  {
   "cell_type": "code",
   "execution_count": 18,
   "metadata": {
    "collapsed": true
   },
   "outputs": [],
   "source": [
    "for num , i in enumerate(test.ap_lo):\n",
    "    if (i>200 and i<5000):\n",
    "        test.loc[num:num,'ap_lo']= i/10"
   ]
  },
  {
   "cell_type": "code",
   "execution_count": 19,
   "metadata": {
    "collapsed": true
   },
   "outputs": [],
   "source": [
    "for num , i in enumerate(test.ap_lo):\n",
    "    if (i<0):\n",
    "        test.loc[num:num,'ap_lo']= abs(i)"
   ]
  },
  {
   "cell_type": "code",
   "execution_count": 20,
   "metadata": {
    "collapsed": true
   },
   "outputs": [],
   "source": [
    "\n",
    "train.loc[40330:40330,'ap_hi'] = 130\n",
    "train.loc[40831:40831,'ap_hi'] = 140\n",
    "\n"
   ]
  },
  {
   "cell_type": "code",
   "execution_count": 21,
   "metadata": {
    "collapsed": true
   },
   "outputs": [],
   "source": [
    "for num , i in enumerate(test.smoke):\n",
    "    if (i=='None'):\n",
    "        test.loc[num:num,'smoke']=0\n",
    "        \n",
    "for num , i in enumerate(test.alco):\n",
    "    if (i=='None'):\n",
    "        test.loc[num:num,'alco']=0\n",
    "\n",
    "        \n",
    "for num , i in enumerate(test.active):\n",
    "    if (i=='None'):\n",
    "        test.loc[num:num,'active']=0"
   ]
  },
  {
   "cell_type": "code",
   "execution_count": 22,
   "metadata": {
    "collapsed": true
   },
   "outputs": [],
   "source": [
    "#train.smoke = train.smoke.astype(int)\n",
    "#train.alco = train.alco.astype(int)\n",
    "#train.active = train.active.astype(int)"
   ]
  },
  {
   "cell_type": "code",
   "execution_count": 23,
   "metadata": {
    "collapsed": true
   },
   "outputs": [],
   "source": [
    "test.smoke = test.smoke.astype(int)\n",
    "test.alco = test.alco.astype(int)\n",
    "test.active = test.active.astype(int)"
   ]
  },
  {
   "cell_type": "code",
   "execution_count": 24,
   "metadata": {
    "collapsed": true
   },
   "outputs": [],
   "source": [
    "train_smoke_dum = pd.get_dummies(train.smoke,prefix='smoke')\n",
    "train_alco_dum = pd.get_dummies(train.alco,prefix='alco')\n",
    "train_active_dum = pd.get_dummies(train.active,prefix='active')\n",
    "train_cholesterol_dum = pd.get_dummies(train.cholesterol,prefix='cholesterol')\n",
    "train_gluc_dum = pd.get_dummies(train.gluc,prefix='gluc')"
   ]
  },
  {
   "cell_type": "code",
   "execution_count": 25,
   "metadata": {
    "collapsed": true
   },
   "outputs": [],
   "source": [
    "test_smoke_dum = pd.get_dummies(test.smoke,prefix='smoke')\n",
    "test_alco_dum = pd.get_dummies(test.alco,prefix='alco')\n",
    "test_active_dum = pd.get_dummies(test.active,prefix='active')\n",
    "test_cholesterol_dum = pd.get_dummies(test.cholesterol,prefix='cholesterol')\n",
    "test_gluc_dum = pd.get_dummies(test.gluc,prefix='gluc')"
   ]
  },
  {
   "cell_type": "code",
   "execution_count": null,
   "metadata": {
    "collapsed": true
   },
   "outputs": [],
   "source": []
  },
  {
   "cell_type": "code",
   "execution_count": 26,
   "metadata": {
    "collapsed": true
   },
   "outputs": [],
   "source": [
    "full_train = pd.concat([train,train_smoke_dum,train_alco_dum,train_active_dum,train_cholesterol_dum,train_gluc_dum],axis=1)"
   ]
  },
  {
   "cell_type": "code",
   "execution_count": 27,
   "metadata": {
    "collapsed": true
   },
   "outputs": [],
   "source": [
    "full_test = pd.concat([test,test_smoke_dum,test_alco_dum,test_active_dum,test_cholesterol_dum,test_gluc_dum],axis=1)"
   ]
  },
  {
   "cell_type": "code",
   "execution_count": null,
   "metadata": {
    "collapsed": true
   },
   "outputs": [],
   "source": []
  },
  {
   "cell_type": "code",
   "execution_count": 28,
   "metadata": {
    "collapsed": true
   },
   "outputs": [],
   "source": [
    "full_train['AP'] = 0.0011*75 + 0.014*full_train['ap_hi'] + 0.008*full_train['ap_lo'] + 0.009*full_train['weight'] - 0.009*full_train['height'] + 0.014*full_train['age2'] - 0.27\n",
    "full_test['AP'] = 0.0011*75 + 0.014*full_test['ap_hi'] + 0.008*full_test['ap_lo'] + 0.009*full_test['weight'] - 0.009*full_test['height'] + 0.014*full_test['age2'] - 0.27"
   ]
  },
  {
   "cell_type": "code",
   "execution_count": 29,
   "metadata": {
    "collapsed": true
   },
   "outputs": [],
   "source": [
    "full_train['mpi'] = full_train['weight']/((full_train['height']/100)**2)\n",
    "full_test['mpi'] = full_test['weight']/((full_test['height']/100)**2)"
   ]
  },
  {
   "cell_type": "code",
   "execution_count": null,
   "metadata": {
    "collapsed": true
   },
   "outputs": [],
   "source": []
  },
  {
   "cell_type": "code",
   "execution_count": null,
   "metadata": {
    "collapsed": true
   },
   "outputs": [],
   "source": []
  },
  {
   "cell_type": "code",
   "execution_count": 30,
   "metadata": {},
   "outputs": [
    {
     "data": {
      "text/html": [
       "<div>\n",
       "<table border=\"1\" class=\"dataframe\">\n",
       "  <thead>\n",
       "    <tr style=\"text-align: right;\">\n",
       "      <th></th>\n",
       "      <th>id</th>\n",
       "      <th>age</th>\n",
       "      <th>gender</th>\n",
       "      <th>height</th>\n",
       "      <th>weight</th>\n",
       "      <th>ap_hi</th>\n",
       "      <th>ap_lo</th>\n",
       "      <th>cholesterol</th>\n",
       "      <th>gluc</th>\n",
       "      <th>smoke</th>\n",
       "      <th>alco</th>\n",
       "      <th>active</th>\n",
       "      <th>cardio</th>\n",
       "      <th>age1</th>\n",
       "      <th>age2</th>\n",
       "      <th>smoke_0</th>\n",
       "      <th>smoke_1</th>\n",
       "      <th>alco_0</th>\n",
       "      <th>alco_1</th>\n",
       "      <th>active_0</th>\n",
       "      <th>active_1</th>\n",
       "      <th>cholesterol_1</th>\n",
       "      <th>cholesterol_2</th>\n",
       "      <th>cholesterol_3</th>\n",
       "      <th>gluc_1</th>\n",
       "      <th>gluc_2</th>\n",
       "      <th>gluc_3</th>\n",
       "      <th>AP</th>\n",
       "      <th>mpi</th>\n",
       "    </tr>\n",
       "  </thead>\n",
       "  <tbody>\n",
       "    <tr>\n",
       "      <th>0</th>\n",
       "      <td>0</td>\n",
       "      <td>18393</td>\n",
       "      <td>2</td>\n",
       "      <td>168</td>\n",
       "      <td>62.0</td>\n",
       "      <td>110.0</td>\n",
       "      <td>80.0</td>\n",
       "      <td>1</td>\n",
       "      <td>1</td>\n",
       "      <td>0</td>\n",
       "      <td>0</td>\n",
       "      <td>1</td>\n",
       "      <td>0</td>\n",
       "      <td>50.254098</td>\n",
       "      <td>50.391781</td>\n",
       "      <td>1</td>\n",
       "      <td>0</td>\n",
       "      <td>1</td>\n",
       "      <td>0</td>\n",
       "      <td>0</td>\n",
       "      <td>1</td>\n",
       "      <td>1</td>\n",
       "      <td>0</td>\n",
       "      <td>0</td>\n",
       "      <td>1</td>\n",
       "      <td>0</td>\n",
       "      <td>0</td>\n",
       "      <td>1.743985</td>\n",
       "      <td>21.967120</td>\n",
       "    </tr>\n",
       "    <tr>\n",
       "      <th>1</th>\n",
       "      <td>1</td>\n",
       "      <td>20228</td>\n",
       "      <td>1</td>\n",
       "      <td>156</td>\n",
       "      <td>85.0</td>\n",
       "      <td>140.0</td>\n",
       "      <td>90.0</td>\n",
       "      <td>3</td>\n",
       "      <td>1</td>\n",
       "      <td>0</td>\n",
       "      <td>0</td>\n",
       "      <td>1</td>\n",
       "      <td>1</td>\n",
       "      <td>55.267760</td>\n",
       "      <td>55.419178</td>\n",
       "      <td>1</td>\n",
       "      <td>0</td>\n",
       "      <td>1</td>\n",
       "      <td>0</td>\n",
       "      <td>0</td>\n",
       "      <td>1</td>\n",
       "      <td>0</td>\n",
       "      <td>0</td>\n",
       "      <td>1</td>\n",
       "      <td>1</td>\n",
       "      <td>0</td>\n",
       "      <td>0</td>\n",
       "      <td>2.629368</td>\n",
       "      <td>34.927679</td>\n",
       "    </tr>\n",
       "  </tbody>\n",
       "</table>\n",
       "</div>"
      ],
      "text/plain": [
       "   id    age  gender  height  weight  ap_hi  ap_lo  cholesterol  gluc  smoke  \\\n",
       "0   0  18393       2     168    62.0  110.0   80.0            1     1      0   \n",
       "1   1  20228       1     156    85.0  140.0   90.0            3     1      0   \n",
       "\n",
       "   alco  active  cardio       age1       age2  smoke_0  smoke_1  alco_0  \\\n",
       "0     0       1       0  50.254098  50.391781        1        0       1   \n",
       "1     0       1       1  55.267760  55.419178        1        0       1   \n",
       "\n",
       "   alco_1  active_0  active_1  cholesterol_1  cholesterol_2  cholesterol_3  \\\n",
       "0       0         0         1              1              0              0   \n",
       "1       0         0         1              0              0              1   \n",
       "\n",
       "   gluc_1  gluc_2  gluc_3        AP        mpi  \n",
       "0       1       0       0  1.743985  21.967120  \n",
       "1       1       0       0  2.629368  34.927679  "
      ]
     },
     "execution_count": 30,
     "metadata": {},
     "output_type": "execute_result"
    }
   ],
   "source": [
    "full_train.head(2)"
   ]
  },
  {
   "cell_type": "code",
   "execution_count": null,
   "metadata": {
    "collapsed": true
   },
   "outputs": [],
   "source": []
  },
  {
   "cell_type": "code",
   "execution_count": 31,
   "metadata": {},
   "outputs": [
    {
     "name": "stderr",
     "output_type": "stream",
     "text": [
      "/usr/local/lib/python3.5/dist-packages/seaborn/categorical.py:342: DeprecationWarning: pandas.core.common.is_categorical_dtype is deprecated. import from the public API: pandas.api.types.is_categorical_dtype instead\n",
      "  elif is_categorical(y):\n",
      "/usr/local/lib/python3.5/dist-packages/seaborn/categorical.py:342: DeprecationWarning: pandas.core.common.is_categorical_dtype is deprecated. import from the public API: pandas.api.types.is_categorical_dtype instead\n",
      "  elif is_categorical(y):\n",
      "/usr/local/lib/python3.5/dist-packages/seaborn/categorical.py:342: DeprecationWarning: pandas.core.common.is_categorical_dtype is deprecated. import from the public API: pandas.api.types.is_categorical_dtype instead\n",
      "  elif is_categorical(y):\n"
     ]
    },
    {
     "data": {
      "text/plain": [
       "<matplotlib.figure.Figure at 0x7f8a55ef65c0>"
      ]
     },
     "metadata": {},
     "output_type": "display_data"
    },
    {
     "data": {
      "image/png": "[encoded data removed]",
      "text/plain": [
       "<matplotlib.figure.Figure at 0x7f8a55ef6390>"
      ]
     },
     "metadata": {},
     "output_type": "display_data"
    }
   ],
   "source": [
    "plt.figure(figsize=(15,8))\n",
    "g = sns.factorplot(x=\"gender\", y=\"cholesterol\", hue=\"cardio\", col=\"cardio\", data=train,\n",
    "                   capsize=.2, palette=\"YlGnBu_d\", size=6, aspect=.75)\n",
    "g.despine(left=True)\n",
    "\n",
    "plt.show(g)"
   ]
  },
  {
   "cell_type": "code",
   "execution_count": null,
   "metadata": {
    "collapsed": true
   },
   "outputs": [],
   "source": []
  },
  {
   "cell_type": "code",
   "execution_count": null,
   "metadata": {},
   "outputs": [],
   "source": []
  },
  {
   "cell_type": "code",
   "execution_count": null,
   "metadata": {
    "collapsed": true
   },
   "outputs": [],
   "source": []
  },
  {
   "cell_type": "code",
   "execution_count": null,
   "metadata": {
    "collapsed": true
   },
   "outputs": [],
   "source": []
  },
  {
   "cell_type": "code",
   "execution_count": null,
   "metadata": {
    "collapsed": true
   },
   "outputs": [],
   "source": []
  },
  {
   "cell_type": "code",
   "execution_count": 32,
   "metadata": {
    "collapsed": true
   },
   "outputs": [],
   "source": [
    "np.random.seed(42)\n",
    "X_train, X_test, y_train, y_test  = train_test_split(\n",
    "    full_train.drop('cardio',axis=1) ,\n",
    "    full_train.cardio.values, test_size=0.35)"
   ]
  },
  {
   "cell_type": "code",
   "execution_count": 33,
   "metadata": {
    "collapsed": true
   },
   "outputs": [],
   "source": [
    "np.random.seed(42)\n",
    "dtrain = xgb.DMatrix(X_train,y_train)\n",
    "dvalid = xgb.DMatrix(X_test,y_test)\n",
    "dtest = xgb.DMatrix(full_test)\n",
    "dtrain_f = xgb.DMatrix(full_train.drop('cardio',axis=1),full_train.cardio)"
   ]
  },
  {
   "cell_type": "code",
   "execution_count": 34,
   "metadata": {},
   "outputs": [],
   "source": [
    "np.random.seed(42)\n",
    "param = {'max_depth':4,\n",
    "         'eta':0.002,\n",
    "         'silent':1,\n",
    "         'objective':'binary:logistic',\n",
    "         'tree_method':'hist',\n",
    "         'seed':42,\n",
    "         'subsample':0.6,\n",
    "         'updater':'grow_gpu'\n",
    "         }\n",
    "\n",
    "param['eval_metric'] = ['logloss','auc']"
   ]
  },
  {
   "cell_type": "code",
   "execution_count": 35,
   "metadata": {
    "collapsed": true
   },
   "outputs": [],
   "source": [
    "np.random.seed(42)\n",
    "trees = 20000\n",
    "\n",
    "cv = xgb.cv(param, dtrain_f, metrics=('logloss'), show_stdv=True,\n",
    "            num_boost_round=trees,nfold=10,early_stopping_rounds = 500)"
   ]
  },
  {
   "cell_type": "code",
   "execution_count": 36,
   "metadata": {},
   "outputs": [
    {
     "name": "stdout",
     "output_type": "stream",
     "text": [
      "test-logloss-mean     0.538405\n",
      "test-logloss-std      0.004069\n",
      "train-logloss-mean    0.528292\n",
      "train-logloss-std     0.000474\n",
      "Name: 5213, dtype: float64\n"
     ]
    },
    {
     "data": {
      "image/png": "[encoded data removed]",
      "text/plain": [
       "<matplotlib.figure.Figure at 0x7f8a56570748>"
      ]
     },
     "metadata": {},
     "output_type": "display_data"
    }
   ],
   "source": [
    "cv[3000:].plot(y=['test-logloss-mean', 'train-logloss-mean'], secondary_y='train-logloss-mean')\n",
    "print (cv.loc[cv['test-logloss-mean'].argmin()])\n",
    "trees = cv['test-logloss-mean'].argmin()\n",
    "plt.show()"
   ]
  },
  {
   "cell_type": "code",
   "execution_count": null,
   "metadata": {
    "collapsed": true
   },
   "outputs": [],
   "source": []
  },
  {
   "cell_type": "code",
   "execution_count": 41,
   "metadata": {},
   "outputs": [
    {
     "name": "stdout",
     "output_type": "stream",
     "text": [
      "CPU times: user 2min 35s, sys: 472 ms, total: 2min 36s\n",
      "Wall time: 45.6 s\n"
     ]
    }
   ],
   "source": [
    "%%time\n",
    "np.random.seed(42)\n",
    "watchlist = [(dtrain, 'train'), (dvalid, 'valid')]\n",
    "clf = xgb.train(param, dtrain_f, 5213,   verbose_eval=550)"
   ]
  },
  {
   "cell_type": "code",
   "execution_count": 42,
   "metadata": {
    "collapsed": true
   },
   "outputs": [],
   "source": [
    "np.random.seed(42)\n",
    "subm = clf.predict(dtest,ntree_limit=clf.best_ntree_limit)"
   ]
  },
  {
   "cell_type": "code",
   "execution_count": 43,
   "metadata": {
    "collapsed": true
   },
   "outputs": [],
   "source": [
    "np.random.seed(42)\n",
    "a = pd.DataFrame(subm)\n",
    "a.to_csv('subm_new_S.csv',index=None,header=None)"
   ]
  },
  {
   "cell_type": "code",
   "execution_count": 44,
   "metadata": {},
   "outputs": [
    {
     "data": {
      "text/plain": [
       "<matplotlib.figure.Figure at 0x7f8a55ec9780>"
      ]
     },
     "metadata": {},
     "output_type": "display_data"
    },
    {
     "data": {
      "image/png": "[encoded data removed]",
      "text/plain": [
       "<matplotlib.figure.Figure at 0x7f8a56430da0>"
      ]
     },
     "metadata": {},
     "output_type": "display_data"
    }
   ],
   "source": [
    "plt.figure(figsize=(15,8))\n",
    "xgb.plot_importance(clf);\n",
    "plt.show();"
   ]
  },
  {
   "cell_type": "code",
   "execution_count": null,
   "metadata": {
    "collapsed": true
   },
   "outputs": [],
   "source": []
  }
 ],
 "metadata": {
  "kernelspec": {
   "display_name": "Python 3",
   "language": "python",
   "name": "python3"
  },
  "language_info": {
   "codemirror_mode": {
    "name": "ipython",
    "version": 3
   },
   "file_extension": ".py",
   "mimetype": "text/x-python",
   "name": "python",
   "nbconvert_exporter": "python",
   "pygments_lexer": "ipython3",
   "version": "3.5.2"
  }
 },
 "nbformat": 4,
 "nbformat_minor": 2
}
